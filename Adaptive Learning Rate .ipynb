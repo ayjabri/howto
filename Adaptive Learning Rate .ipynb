{
 "cells": [
  {
   "cell_type": "code",
   "execution_count": 1,
   "metadata": {},
   "outputs": [],
   "source": [
    "import torch\n",
    "import torch.nn as nn\n",
    "from torch.nn import functional as F\n",
    "import torchvision\n",
    "from torchvision import datasets, transforms\n",
    "import matplotlib.pyplot as plt\n",
    "import numpy as np\n",
    "from collections import OrderedDict\n",
    "from tqdm import tqdm"
   ]
  },
  {
   "cell_type": "markdown",
   "metadata": {},
   "source": [
    "# Preparing DataLoaders"
   ]
  },
  {
   "cell_type": "code",
   "execution_count": 7,
   "metadata": {},
   "outputs": [],
   "source": [
    "tfms = transforms.Compose([#transforms.Resize((16,16)),\n",
    "                           transforms.ToTensor()])\n",
    "                           #transforms.Normalize((0.5),(0.5))])"
   ]
  },
  {
   "cell_type": "code",
   "execution_count": 8,
   "metadata": {
    "scrolled": true
   },
   "outputs": [],
   "source": [
    "trainset = datasets.KMNIST('./data/KMNIST',train=True, download=True, transform=tfms)\n",
    "\n",
    "\n",
    "valset = datasets.KMNIST('./data/KMNIST',train=False, download=True, transform=tfms)"
   ]
  },
  {
   "cell_type": "code",
   "execution_count": 9,
   "metadata": {},
   "outputs": [],
   "source": [
    "trainloader = torch.utils.data.DataLoader(trainset, batch_size=10, shuffle=False)\n",
    "\n",
    "valloader = torch.utils.data.DataLoader(valset, batch_size=10, shuffle=False)"
   ]
  },
  {
   "cell_type": "code",
   "execution_count": 10,
   "metadata": {},
   "outputs": [
    {
     "data": {
      "text/plain": [
       "['o', 'ki', 'su', 'tsu', 'na', 'ha', 'ma', 'ya', 're', 'wo']"
      ]
     },
     "execution_count": 10,
     "metadata": {},
     "output_type": "execute_result"
    }
   ],
   "source": [
    "classes = trainloader.dataset.classes\n",
    "classes"
   ]
  },
  {
   "cell_type": "code",
   "execution_count": 11,
   "metadata": {
    "scrolled": true
   },
   "outputs": [
    {
     "data": {
      "text/plain": [
       "<matplotlib.image.AxesImage at 0x7f60a51fc3c8>"
      ]
     },
     "execution_count": 11,
     "metadata": {},
     "output_type": "execute_result"
    },
    {
     "data": {
      "image/png": "[encoded data removed]",
      "text/plain": [
       "<Figure size 864x864 with 1 Axes>"
      ]
     },
     "metadata": {
      "needs_background": "light"
     },
     "output_type": "display_data"
    }
   ],
   "source": [
    "batch = next(iter(trainloader))\n",
    "img,label = batch\n",
    "images = torchvision.utils.make_grid(img,nrow=10)\n",
    "\n",
    "plt.figure(figsize=(12,12))\n",
    "plt.imshow(images.permute(1,2,0))"
   ]
  },
  {
   "cell_type": "code",
   "execution_count": 12,
   "metadata": {},
   "outputs": [
    {
     "data": {
      "text/plain": [
       "(torch.Size([10, 1, 28, 28]), torch.Size([10]))"
      ]
     },
     "execution_count": 12,
     "metadata": {},
     "output_type": "execute_result"
    }
   ],
   "source": [
    "img.shape, label.shape"
   ]
  },
  {
   "cell_type": "code",
   "execution_count": 39,
   "metadata": {},
   "outputs": [
    {
     "name": "stdout",
     "output_type": "stream",
     "text": [
      "Running on GPU\n"
     ]
    }
   ],
   "source": [
    "if torch.cuda.is_available():\n",
    "    device = torch.device('cuda:0')\n",
    "    print('Running on GPU')\n",
    "else: \n",
    "    device = torch.device('cpu')\n",
    "    print('Running on CPU')"
   ]
  },
  {
   "cell_type": "markdown",
   "metadata": {},
   "source": [
    "# Adaptive Learning Rate"
   ]
  },
  {
   "cell_type": "markdown",
   "metadata": {},
   "source": [
    "To make learning rate adaptable.i.e. change by `adjust_lr_rate` every `adjust_every` epochs, add the line:\n",
    "\n",
    "`if epoch % adjust_every == 0:  \n",
    "    optimizer.param_groups[0]['lr'] *= adjust_lr_rate`"
   ]
  },
  {
   "cell_type": "code",
   "execution_count": 151,
   "metadata": {},
   "outputs": [],
   "source": [
    "class Net(nn.Module):\n",
    "    def __init__(self):\n",
    "        super().__init__()\n",
    "        self.layer1 = nn.Sequential(OrderedDict([\n",
    "            ('conv1',nn.Conv2d(in_channels=1, out_channels=4, kernel_size=2)),\n",
    "            ('fun1',nn.ReLU()),\n",
    "            ('max1',nn.MaxPool2d(kernel_size=(2,2))),\n",
    "            ('conv2',nn.Conv2d(in_channels=4, out_channels=8, kernel_size=2)),\n",
    "            ('fun2',nn.ReLU())\n",
    "            ]))\n",
    "        self.layer2 = nn.Sequential(OrderedDict([\n",
    "            ('lin1',nn.Linear(in_features=8*12*12, out_features=64)),\n",
    "            ('fun1',nn.ReLU()),\n",
    "            ('lin3',nn.Linear(in_features=64, out_features=10)),\n",
    "            ]))\n",
    "    \n",
    "    def forward(self,x):\n",
    "        x = self.layer1(x)\n",
    "        x = x.view(-1,x.shape[1]*x.shape[2]*x.shape[3])\n",
    "        x = self.layer2(x)\n",
    "        return x\n",
    "    \n",
    "    def learn(self,epochs,DataLoader,lr,adjust_lr_rate,adjust_every):\n",
    "        loss_fun = nn.CrossEntropyLoss()\n",
    "        optimizer = torch.optim.SGD(self.parameters(),lr=lr,weight_decay=1e-4)\n",
    "        \n",
    "        z = torch.tensor([])\n",
    "        for epoch in range(epochs):\n",
    "            if epoch%adjust_every==0:optimizer.param_groups[0]['lr']*=adjust_lr_rate #here\n",
    "            for data in DataLoader:\n",
    "                X,y = data\n",
    "                if torch.cuda.is_available(): X,y = X.to(device),y.to(device)\n",
    "                \n",
    "                optimizer.zero_grad()\n",
    "                output = self(X)\n",
    "                loss = loss_fun(output,y)\n",
    "                loss.backward()\n",
    "                \n",
    "                #z = torch.cat((z,loss),dim=0)\n",
    "                optimizer.step()\n",
    "            print(epoch,round(optimizer.param_groups[0]['lr'],5), loss.item())\n",
    "        #return z\n",
    "    \n",
    "    @torch.no_grad()\n",
    "    def accuracy(self,DataLoader):\n",
    "        correct=0\n",
    "        total=0\n",
    "        \n",
    "        for data in tqdm(DataLoader):\n",
    "            X,y = data\n",
    "            if torch.cuda.is_available(): X,y = X.to(device),y.to(device)\n",
    "            predict = self(X)\n",
    "            for idx,i in enumerate(predict):\n",
    "                if torch.argmax(i,dim=-1)==y[idx]:\n",
    "                    correct +=1\n",
    "                total +=1\n",
    "        print('Accuracy : {}'.format(round(correct/total*100,3)))\n",
    "        \n",
    "    \n",
    "net = Net().to(device)"
   ]
  },
  {
   "cell_type": "code",
   "execution_count": null,
   "metadata": {
    "scrolled": true
   },
   "outputs": [],
   "source": [
    "net(img.to(device)).shape"
   ]
  },
  {
   "cell_type": "code",
   "execution_count": null,
   "metadata": {},
   "outputs": [],
   "source": [
    "net.learn(8,trainloader,1e-1,0.1,3)"
   ]
  },
  {
   "cell_type": "code",
   "execution_count": null,
   "metadata": {},
   "outputs": [],
   "source": [
    "net.accuracy(trainloader)"
   ]
  },
  {
   "cell_type": "code",
   "execution_count": null,
   "metadata": {},
   "outputs": [],
   "source": [
    "net.accuracy(valloader)"
   ]
  },
  {
   "cell_type": "code",
   "execution_count": null,
   "metadata": {},
   "outputs": [],
   "source": [
    "'''Predict All'''\n",
    "predict_all = torch.tensor([]).to(device)\n",
    "actual_all = torch.tensor([],dtype=torch.int64).to(device)\n",
    "with torch.no_grad():\n",
    "    for Xp,yp in tqdm(valloader):\n",
    "        if torch.cuda.is_available(): Xp,yp = Xp.to(device),yp.to(device)\n",
    "        predict = net(Xp)\n",
    "        predict_all = torch.cat((predict_all, predict))\n",
    "        actual_all = torch.cat((actual_all, yp))"
   ]
  },
  {
   "cell_type": "code",
   "execution_count": null,
   "metadata": {},
   "outputs": [],
   "source": [
    "stack = torch.stack((predict_all.argmax(dim=1),actual_all),dim=1)"
   ]
  },
  {
   "cell_type": "code",
   "execution_count": null,
   "metadata": {},
   "outputs": [],
   "source": [
    "con = torch.zeros(10,10)\n",
    "for i,j in stack:\n",
    "    con[i,j] +=1\n",
    "con.dtype"
   ]
  },
  {
   "cell_type": "code",
   "execution_count": null,
   "metadata": {},
   "outputs": [],
   "source": [
    "con.detach_()"
   ]
  },
  {
   "cell_type": "code",
   "execution_count": null,
   "metadata": {},
   "outputs": [],
   "source": [
    "con = con.int()"
   ]
  },
  {
   "cell_type": "code",
   "execution_count": null,
   "metadata": {},
   "outputs": [],
   "source": [
    "import itertools\n",
    "import numpy as np\n",
    "import matplotlib.pyplot as plt\n",
    "\n",
    "def plot_confusion_matrix(cm, classes, normalize=False, title='Confusion matrix', cmap=plt.cm.Blues):\n",
    "    if normalize:\n",
    "        cm = cm.astype('float') / cm.sum(axis=1)[:, np.newaxis]\n",
    "        print(\"Normalized confusion matrix\")\n",
    "    else:\n",
    "        print('Confusion matrix, without normalization')\n",
    "\n",
    "    #print(cm)\n",
    "    plt.figure(figsize=(12,12))\n",
    "    plt.imshow(cm, interpolation='nearest', cmap=cmap)\n",
    "    plt.title(title)\n",
    "    plt.colorbar()\n",
    "    tick_marks = np.arange(len(classes))\n",
    "    plt.xticks(tick_marks, classes, rotation=45)\n",
    "    plt.yticks(tick_marks, classes)\n",
    "\n",
    "    fmt = '.2f' if normalize else 'd'\n",
    "    thresh = cm.max() / 2.\n",
    "    for i, j in itertools.product(range(cm.shape[0]), range(cm.shape[1])):\n",
    "        plt.text(j, i, format(cm[i, j], fmt), horizontalalignment=\"center\", color=\"white\" if cm[i, j] > thresh else \"black\")\n",
    "\n",
    "    plt.tight_layout()\n",
    "    plt.ylabel('True label')\n",
    "    plt.xlabel('Predicted label')"
   ]
  },
  {
   "cell_type": "code",
   "execution_count": null,
   "metadata": {},
   "outputs": [],
   "source": [
    "plot_confusion_matrix(con,classes)"
   ]
  },
  {
   "cell_type": "markdown",
   "metadata": {},
   "source": [
    "# Enlarge Photos and Adjust CNN"
   ]
  },
  {
   "cell_type": "code",
   "execution_count": 81,
   "metadata": {},
   "outputs": [],
   "source": [
    "tfms_tt = transforms.Compose([\n",
    "        transforms.RandomRotation(10),\n",
    "        transforms.ToTensor()])\n",
    "tfms_tv = transforms.Compose([\n",
    "        transforms.ToTensor()])"
   ]
  },
  {
   "cell_type": "code",
   "execution_count": 82,
   "metadata": {},
   "outputs": [],
   "source": [
    "trainset_t = datasets.KMNIST('./data/KMNIST/224',train=True, download=True, transform=tfms_tt)\n",
    "\n",
    "\n",
    "valset_t = datasets.KMNIST('./data/KMNIST/224',train=False, download=True, transform=tfms_tv)"
   ]
  },
  {
   "cell_type": "code",
   "execution_count": 83,
   "metadata": {},
   "outputs": [],
   "source": [
    "trainloader_t = torch.utils.data.DataLoader(trainset_t, batch_size=10, shuffle=True)\n",
    "\n",
    "valloader_t = torch.utils.data.DataLoader(valset_t, batch_size=10, shuffle=False)"
   ]
  },
  {
   "cell_type": "code",
   "execution_count": 84,
   "metadata": {},
   "outputs": [],
   "source": [
    "batch_t = next(iter(trainloader_t))\n",
    "Xt,yt = batch_t"
   ]
  },
  {
   "cell_type": "code",
   "execution_count": 105,
   "metadata": {},
   "outputs": [
    {
     "data": {
      "text/plain": [
       "torch.Size([10, 1, 28, 28])"
      ]
     },
     "execution_count": 105,
     "metadata": {},
     "output_type": "execute_result"
    }
   ],
   "source": [
    "Xt.shape"
   ]
  },
  {
   "cell_type": "code",
   "execution_count": 125,
   "metadata": {},
   "outputs": [],
   "source": [
    "class Net_E(nn.Module):\n",
    "    def __init__(self):\n",
    "        super().__init__()\n",
    "        self.layer1 = nn.Sequential(OrderedDict([\n",
    "            ('conv1',nn.Conv2d(in_channels=1, out_channels=6, kernel_size=2)),\n",
    "            ('fun1',nn.ReLU()),\n",
    "            ('max1',nn.MaxPool2d(kernel_size=(2,2))),\n",
    "            ('conv2',nn.Conv2d(in_channels=6, out_channels=12, kernel_size=2)),\n",
    "            ('fun2',nn.ReLU())\n",
    "            ]))\n",
    "        self.layer2 = nn.Sequential(OrderedDict([\n",
    "            ('lin1',nn.Linear(in_features=12*12*12, out_features=216)),\n",
    "            ('fun1',nn.ReLU()),\n",
    "            ('lin3',nn.Linear(in_features=216, out_features=10)),\n",
    "            ]))\n",
    "    \n",
    "    def forward(self,x):\n",
    "        x = self.layer1(x)\n",
    "        x = x.view(-1,x.shape[1]*x.shape[2]*x.shape[3])\n",
    "        x = self.layer2(x)\n",
    "        return x\n",
    "    \n",
    "    def learn(self,epochs,DataLoader,lr,adjust_lr_rate,adjust_every):\n",
    "        loss_fun = nn.CrossEntropyLoss()\n",
    "        optimizer = torch.optim.SGD(self.parameters(),lr=lr,weight_decay=1e-4)\n",
    "        \n",
    "        z = torch.tensor([])\n",
    "        for epoch in range(epochs):\n",
    "            if epoch%adjust_every==0:optimizer.param_groups[0]['lr']*=adjust_lr_rate\n",
    "            for data in DataLoader:\n",
    "                X,y = data\n",
    "                if torch.cuda.is_available(): X,y = X.to(device),y.to(device)\n",
    "                \n",
    "                optimizer.zero_grad()\n",
    "                output = self(X)\n",
    "                loss = loss_fun(output,y)\n",
    "                loss.backward()\n",
    "                \n",
    "                #z = torch.cat((z,loss),dim=0)\n",
    "                optimizer.step()\n",
    "            print(epoch,round(optimizer.param_groups[0]['lr'],5), loss.item())\n",
    "        #return z\n",
    "    \n",
    "    @torch.no_grad()\n",
    "    def accuracy(self,DataLoader):\n",
    "        correct=0\n",
    "        total=0\n",
    "        \n",
    "        for data in tqdm(DataLoader):\n",
    "            X,y = data\n",
    "            if torch.cuda.is_available(): X,y = X.to(device),y.to(device)\n",
    "            predict = self(X)\n",
    "            for idx,i in enumerate(predict):\n",
    "                if torch.argmax(i,dim=-1)==y[idx]:\n",
    "                    correct +=1\n",
    "                total +=1\n",
    "        print('Accuracy : {}'.format(round(correct/total*100,3)))\n",
    "        \n",
    "    \n",
    "net_t = Net_E().to(device)"
   ]
  },
  {
   "cell_type": "code",
   "execution_count": 106,
   "metadata": {},
   "outputs": [
    {
     "data": {
      "text/plain": [
       "torch.Size([10, 10])"
      ]
     },
     "execution_count": 106,
     "metadata": {},
     "output_type": "execute_result"
    }
   ],
   "source": [
    "net_t(Xt.to(device)).shape"
   ]
  },
  {
   "cell_type": "code",
   "execution_count": 111,
   "metadata": {
    "scrolled": true
   },
   "outputs": [
    {
     "name": "stdout",
     "output_type": "stream",
     "text": [
      "0 0.0001 0.13448691368103027\n",
      "1 0.0001 0.006481075193732977\n",
      "2 1e-05 0.06747722625732422\n"
     ]
    }
   ],
   "source": [
    "net_t.learn(3,trainloader_t,1e-3,0.1,2)"
   ]
  },
  {
   "cell_type": "code",
   "execution_count": 112,
   "metadata": {},
   "outputs": [
    {
     "name": "stderr",
     "output_type": "stream",
     "text": [
      "100%|██████████| 1000/1000 [00:02<00:00, 452.16it/s]"
     ]
    },
    {
     "name": "stdout",
     "output_type": "stream",
     "text": [
      "Accuracy : 90.36\n"
     ]
    },
    {
     "name": "stderr",
     "output_type": "stream",
     "text": [
      "\n"
     ]
    }
   ],
   "source": [
    "net_t.accuracy(valloader_t)"
   ]
  },
  {
   "cell_type": "code",
   "execution_count": 114,
   "metadata": {},
   "outputs": [
    {
     "data": {
      "text/plain": [
       "<matplotlib.image.AxesImage at 0x7f60af88e0b8>"
      ]
     },
     "execution_count": 114,
     "metadata": {},
     "output_type": "execute_result"
    },
    {
     "data": {
      "image/png": "[encoded data removed]",
      "text/plain": [
       "<Figure size 864x864 with 1 Axes>"
      ]
     },
     "metadata": {
      "needs_background": "light"
     },
     "output_type": "display_data"
    }
   ],
   "source": [
    "images = torchvision.utils.make_grid(img,nrow=5)\n",
    "plt.figure(figsize=(12,12))\n",
    "plt.imshow(images.permute(1,2,0))"
   ]
  },
  {
   "cell_type": "markdown",
   "metadata": {},
   "source": [
    "Enlarging photos didn't improve predictability, on the countrary it reduced it!!"
   ]
  },
  {
   "cell_type": "markdown",
   "metadata": {},
   "source": [
    "# Joining both datasets and retain the network"
   ]
  },
  {
   "cell_type": "code",
   "execution_count": 116,
   "metadata": {
    "scrolled": true
   },
   "outputs": [
    {
     "data": {
      "text/plain": [
       "(Dataset KMNIST\n",
       "     Number of datapoints: 60000\n",
       "     Root location: ./data/KMNIST\n",
       "     Split: Train\n",
       "     StandardTransform\n",
       " Transform: Compose(\n",
       "                ToTensor()\n",
       "            ), Dataset KMNIST\n",
       "     Number of datapoints: 10000\n",
       "     Root location: ./data/KMNIST\n",
       "     Split: Test\n",
       "     StandardTransform\n",
       " Transform: Compose(\n",
       "                ToTensor()\n",
       "            ))"
      ]
     },
     "execution_count": 116,
     "metadata": {},
     "output_type": "execute_result"
    }
   ],
   "source": [
    "trainset, valset"
   ]
  },
  {
   "cell_type": "code",
   "execution_count": 118,
   "metadata": {},
   "outputs": [],
   "source": [
    "joinset = torch.utils.data.ConcatDataset((trainset,valset))"
   ]
  },
  {
   "cell_type": "code",
   "execution_count": 119,
   "metadata": {
    "scrolled": true
   },
   "outputs": [
    {
     "data": {
      "text/plain": [
       "[Dataset KMNIST\n",
       "     Number of datapoints: 60000\n",
       "     Root location: ./data/KMNIST\n",
       "     Split: Train\n",
       "     StandardTransform\n",
       " Transform: Compose(\n",
       "                ToTensor()\n",
       "            ), Dataset KMNIST\n",
       "     Number of datapoints: 10000\n",
       "     Root location: ./data/KMNIST\n",
       "     Split: Test\n",
       "     StandardTransform\n",
       " Transform: Compose(\n",
       "                ToTensor()\n",
       "            )]"
      ]
     },
     "execution_count": 119,
     "metadata": {},
     "output_type": "execute_result"
    }
   ],
   "source": [
    "joinset.datasets"
   ]
  },
  {
   "cell_type": "code",
   "execution_count": 165,
   "metadata": {},
   "outputs": [],
   "source": [
    "joinloader = torch.utils.data.DataLoader(joinset,batch_size=10,shuffle=True,num_workers=2)"
   ]
  },
  {
   "cell_type": "code",
   "execution_count": 166,
   "metadata": {},
   "outputs": [],
   "source": [
    "netj= Net()"
   ]
  },
  {
   "cell_type": "code",
   "execution_count": 167,
   "metadata": {},
   "outputs": [
    {
     "data": {
      "text/plain": [
       "Net(\n",
       "  (layer1): Sequential(\n",
       "    (conv1): Conv2d(1, 4, kernel_size=(2, 2), stride=(1, 1))\n",
       "    (fun1): ReLU()\n",
       "    (max1): MaxPool2d(kernel_size=(2, 2), stride=(2, 2), padding=0, dilation=1, ceil_mode=False)\n",
       "    (conv2): Conv2d(4, 8, kernel_size=(2, 2), stride=(1, 1))\n",
       "    (fun2): ReLU()\n",
       "  )\n",
       "  (layer2): Sequential(\n",
       "    (lin1): Linear(in_features=1152, out_features=64, bias=True)\n",
       "    (fun1): ReLU()\n",
       "    (lin3): Linear(in_features=64, out_features=10, bias=True)\n",
       "  )\n",
       ")"
      ]
     },
     "execution_count": 167,
     "metadata": {},
     "output_type": "execute_result"
    }
   ],
   "source": [
    "netj.to(device)"
   ]
  },
  {
   "cell_type": "code",
   "execution_count": 168,
   "metadata": {
    "scrolled": true
   },
   "outputs": [
    {
     "name": "stdout",
     "output_type": "stream",
     "text": [
      "0 0.1 0.5354361534118652\n",
      "1 0.1 0.05742249637842178\n",
      "2 0.1 0.07460732758045197\n",
      "3 0.1 0.1451323926448822\n",
      "4 0.1 0.00015506744966842234\n"
     ]
    }
   ],
   "source": [
    "netj.learn(5,joinloader,1e-1,1,5)"
   ]
  },
  {
   "cell_type": "code",
   "execution_count": 169,
   "metadata": {},
   "outputs": [
    {
     "name": "stderr",
     "output_type": "stream",
     "text": [
      "100%|██████████| 7000/7000 [00:16<00:00, 415.39it/s]"
     ]
    },
    {
     "name": "stdout",
     "output_type": "stream",
     "text": [
      "Accuracy : 98.094\n"
     ]
    },
    {
     "name": "stderr",
     "output_type": "stream",
     "text": [
      "\n"
     ]
    }
   ],
   "source": [
    "netj.accuracy(joinloader)"
   ]
  },
  {
   "cell_type": "code",
   "execution_count": 170,
   "metadata": {},
   "outputs": [
    {
     "name": "stderr",
     "output_type": "stream",
     "text": [
      "100%|██████████| 1000/1000 [00:02<00:00, 441.93it/s]"
     ]
    },
    {
     "name": "stdout",
     "output_type": "stream",
     "text": [
      "Accuracy : 96.76\n"
     ]
    },
    {
     "name": "stderr",
     "output_type": "stream",
     "text": [
      "\n"
     ]
    }
   ],
   "source": [
    "netj.accuracy(valloader)"
   ]
  },
  {
   "cell_type": "code",
   "execution_count": null,
   "metadata": {},
   "outputs": [],
   "source": []
  }
 ],
 "metadata": {
  "kernelspec": {
   "display_name": "Python 3",
   "language": "python",
   "name": "python3"
  },
  "language_info": {
   "codemirror_mode": {
    "name": "ipython",
    "version": 3
   },
   "file_extension": ".py",
   "mimetype": "text/x-python",
   "name": "python",
   "nbconvert_exporter": "python",
   "pygments_lexer": "ipython3",
   "version": "3.7.7"
  }
 },
 "nbformat": 4,
 "nbformat_minor": 4
}
