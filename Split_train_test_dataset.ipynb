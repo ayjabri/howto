{
 "cells": [
  {
   "cell_type": "code",
   "execution_count": 38,
   "metadata": {},
   "outputs": [],
   "source": [
    "import torch\n",
    "import torchvision as tv\n",
    "from sklearn.model_selection import train_test_split\n",
    "from glob import glob\n",
    "import os"
   ]
  },
  {
   "cell_type": "markdown",
   "metadata": {},
   "source": [
    "## Steps to create training and validation sets \n",
    "\n",
    "This is very similar to ImageFolder dataset in torchvision. A generic data loader where the images are arranged in this way:\n",
    "\n",
    "    root/dog/xxx.png\n",
    "    root/dog/xxy.png\n",
    "    root/dog/xxz.png\n",
    "\n",
    "    root/cat/123.png\n",
    "    root/cat/nsdf3.png\n",
    "    root/cat/asd932_.png\n",
    "\n",
    "Steps are:\n",
    "1. Create a set of images' pathnames and save them in x \n",
    "2. Extracte directories' names and save them in 'c'\n",
    "3. Keys are the unique values in 'c'\n",
    "4. Generate values as a sequence of numbers from 0 to 50\n",
    "5. Define class_to_idx by joining keys and values\n",
    "6. Create a list with pathes and direcotry names\n",
    "7. Map class values to directory name in y\n"
   ]
  },
  {
   "cell_type": "code",
   "execution_count": 97,
   "metadata": {},
   "outputs": [],
   "source": [
    "path = ('/Users/aymanjabri/notebooks/Artwork/data/images/images')\n",
    "\n",
    "x = glob(path+'/**/*') # contains path to all files\n",
    "\n",
    "#extract directory names and save them into a list\n",
    "c = [os.path.basename(os.path.dirname(i)) for i in x]\n",
    "\n",
    "#create a dictionary list from directory names and a sequence values\n",
    "keys = np.unique(c)\n",
    "values = np.arange(0,50)\n",
    "class_to_idx = dict(zip(keys,values))"
   ]
  },
  {
   "cell_type": "code",
   "execution_count": 96,
   "metadata": {},
   "outputs": [
    {
     "data": {
      "text/plain": [
       "[['Piet_Mondrian',\n",
       "  '/Users/aymanjabri/notebooks/Artwork/data/images/images/Piet_Mondrian/Piet_Mondrian_38.jpg'],\n",
       " ['Piet_Mondrian',\n",
       "  '/Users/aymanjabri/notebooks/Artwork/data/images/images/Piet_Mondrian/Piet_Mondrian_10.jpg'],\n",
       " ['Piet_Mondrian',\n",
       "  '/Users/aymanjabri/notebooks/Artwork/data/images/images/Piet_Mondrian/Piet_Mondrian_11.jpg'],\n",
       " ['Piet_Mondrian',\n",
       "  '/Users/aymanjabri/notebooks/Artwork/data/images/images/Piet_Mondrian/Piet_Mondrian_39.jpg'],\n",
       " ['Piet_Mondrian',\n",
       "  '/Users/aymanjabri/notebooks/Artwork/data/images/images/Piet_Mondrian/Piet_Mondrian_13.jpg']]"
      ]
     },
     "execution_count": 96,
     "metadata": {},
     "output_type": "execute_result"
    }
   ],
   "source": [
    "d = [[os.path.basename(os.path.dirname(i)),os.path.abspath(i)] for i in x]\n",
    "d[:5]"
   ]
  },
  {
   "cell_type": "code",
   "execution_count": 41,
   "metadata": {},
   "outputs": [
    {
     "data": {
      "text/plain": [
       "(8446, 2)"
      ]
     },
     "execution_count": 41,
     "metadata": {},
     "output_type": "execute_result"
    }
   ],
   "source": [
    "np.array(d).shape"
   ]
  },
  {
   "cell_type": "code",
   "execution_count": 42,
   "metadata": {},
   "outputs": [],
   "source": [
    "y = [class_to_idx[d[i][0]] for i in range(len(d))]"
   ]
  },
  {
   "cell_type": "code",
   "execution_count": 72,
   "metadata": {},
   "outputs": [
    {
     "data": {
      "text/plain": [
       "(8446,\n",
       " 49,\n",
       " 0,\n",
       " array([328, 259, 193,  99, 181,  91,  55,  73,  70, 128, 702,  90,  67,\n",
       "         87,  31, 291, 120,  43, 119, 117,  59, 186,  70,  81, 137,  24,\n",
       "         81, 102, 126, 143, 239,  49, 171, 439,  47, 311, 188, 141, 336,\n",
       "         84, 134, 109, 262, 194, 139, 164, 255,  88, 877,  66]))"
      ]
     },
     "execution_count": 72,
     "metadata": {},
     "output_type": "execute_result"
    }
   ],
   "source": [
    "len(y),max(y),min(y),np.bincount(y)"
   ]
  },
  {
   "cell_type": "code",
   "execution_count": 55,
   "metadata": {},
   "outputs": [],
   "source": [
    "x_train,x_test,y_train,y_test = train_test_split(x,y,test_size=0.2)"
   ]
  },
  {
   "cell_type": "code",
   "execution_count": 59,
   "metadata": {},
   "outputs": [
    {
     "data": {
      "text/plain": [
       "(6756, 1690)"
      ]
     },
     "execution_count": 59,
     "metadata": {},
     "output_type": "execute_result"
    }
   ],
   "source": [
    "len(x_train),len(x_test)"
   ]
  },
  {
   "cell_type": "code",
   "execution_count": 121,
   "metadata": {},
   "outputs": [
    {
     "data": {
      "text/plain": [
       "(array([268, 204, 148,  83, 142,  66,  41,  64,  58,  99, 560,  75,  50,\n",
       "         65,  24, 237,  94,  34,  91,  92,  48, 148,  53,  59, 110,  19,\n",
       "         71,  81, 102, 109, 197,  41, 138, 356,  32, 263, 154, 115, 267,\n",
       "         73, 112,  85, 224, 155, 106, 131, 205,  70, 686,  51]),\n",
       " array([ 60,  55,  45,  16,  39,  25,  14,   9,  12,  29, 142,  15,  17,\n",
       "         22,   7,  54,  26,   9,  28,  25,  11,  38,  17,  22,  27,   5,\n",
       "         10,  21,  24,  34,  42,   8,  33,  83,  15,  48,  34,  26,  69,\n",
       "         11,  22,  24,  38,  39,  33,  33,  50,  18, 191,  15]))"
      ]
     },
     "execution_count": 121,
     "metadata": {},
     "output_type": "execute_result"
    }
   ],
   "source": [
    "np.bincount(y_train),np.bincount(y_test)"
   ]
  },
  {
   "cell_type": "markdown",
   "metadata": {},
   "source": [
    "# A new way to do this with torchvision 0.4.0 and above"
   ]
  },
  {
   "cell_type": "code",
   "execution_count": 2,
   "metadata": {},
   "outputs": [
    {
     "ename": "NameError",
     "evalue": "name 'torch' is not defined",
     "output_type": "error",
     "traceback": [
      "\u001b[0;31m---------------------------------------------------------------------------\u001b[0m",
      "\u001b[0;31mNameError\u001b[0m                                 Traceback (most recent call last)",
      "\u001b[0;32m<ipython-input-2-134dc8ec8e12>\u001b[0m in \u001b[0;36m<module>\u001b[0;34m\u001b[0m\n\u001b[1;32m      1\u001b[0m \u001b[0;31m#data = dataset created using either torchvision or any other custom dataset class\u001b[0m\u001b[0;34m\u001b[0m\u001b[0;34m\u001b[0m\u001b[0;34m\u001b[0m\u001b[0m\n\u001b[0;32m----> 2\u001b[0;31m \u001b[0mtrainset\u001b[0m\u001b[0;34m,\u001b[0m\u001b[0mtestset\u001b[0m \u001b[0;34m=\u001b[0m \u001b[0mtorch\u001b[0m\u001b[0;34m.\u001b[0m\u001b[0mutils\u001b[0m\u001b[0;34m.\u001b[0m\u001b[0mdata\u001b[0m\u001b[0;34m.\u001b[0m\u001b[0mrandom_split\u001b[0m\u001b[0;34m(\u001b[0m\u001b[0mdata\u001b[0m\u001b[0;34m,\u001b[0m\u001b[0;34m[\u001b[0m\u001b[0;36m800\u001b[0m\u001b[0;34m,\u001b[0m\u001b[0;36m200\u001b[0m\u001b[0;34m]\u001b[0m\u001b[0;34m)\u001b[0m\u001b[0;34m\u001b[0m\u001b[0;34m\u001b[0m\u001b[0m\n\u001b[0m\u001b[1;32m      3\u001b[0m \u001b[0;34m\u001b[0m\u001b[0m\n\u001b[1;32m      4\u001b[0m \u001b[0;31m# train_size = int(0.8 * len(full_dataset))\u001b[0m\u001b[0;34m\u001b[0m\u001b[0;34m\u001b[0m\u001b[0;34m\u001b[0m\u001b[0m\n\u001b[1;32m      5\u001b[0m \u001b[0;31m# test_size = len(full_dataset) - train_size\u001b[0m\u001b[0;34m\u001b[0m\u001b[0;34m\u001b[0m\u001b[0;34m\u001b[0m\u001b[0m\n",
      "\u001b[0;31mNameError\u001b[0m: name 'torch' is not defined"
     ]
    }
   ],
   "source": [
    "#data = dataset created using either torchvision or any other custom dataset class\n",
    "trainset,testset = torch.utils.data.random_split(data,[800,200])\n",
    "\n",
    "# train_size = int(0.8 * len(full_dataset))\n",
    "# test_size = len(full_dataset) - train_size\n",
    "\n",
    "# train_dataset, test_dataset = torch.utils.data.random_split(full_dataset, [train_size, test_size])"
   ]
  },
  {
   "cell_type": "code",
   "execution_count": null,
   "metadata": {},
   "outputs": [],
   "source": []
  }
 ],
 "metadata": {
  "kernelspec": {
   "display_name": "Python 3",
   "language": "python",
   "name": "python3"
  },
  "language_info": {
   "codemirror_mode": {
    "name": "ipython",
    "version": 3
   },
   "file_extension": ".py",
   "mimetype": "text/x-python",
   "name": "python",
   "nbconvert_exporter": "python",
   "pygments_lexer": "ipython3",
   "version": "3.7.5"
  }
 },
 "nbformat": 4,
 "nbformat_minor": 4
}
