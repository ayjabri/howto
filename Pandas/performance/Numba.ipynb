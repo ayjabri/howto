{
 "cells": [
  {
   "cell_type": "markdown",
   "id": "892a9003",
   "metadata": {},
   "source": [
    "## Numba JIT\n",
    "\n",
    "JIT: just in time compiler, which means it complies the function in time of execution and saves it in memory. It doesn't compile ahead of time though!\n"
   ]
  },
  {
   "cell_type": "code",
   "execution_count": 1,
   "id": "2dfd36b8",
   "metadata": {},
   "outputs": [
    {
     "name": "stdout",
     "output_type": "stream",
     "text": [
      "Using matplotlib backend: Qt5Agg\n",
      "Populating the interactive namespace from numpy and matplotlib\n"
     ]
    }
   ],
   "source": [
    "%pylab\n",
    "import pandas as pd"
   ]
  },
  {
   "cell_type": "markdown",
   "id": "9a2f7eed",
   "metadata": {},
   "source": [
    "#### Generate fake data\n"
   ]
  },
  {
   "cell_type": "code",
   "execution_count": 2,
   "id": "973818b2",
   "metadata": {},
   "outputs": [],
   "source": [
    "n = 1000_000\n",
    "df = pd.DataFrame({'a':np.random.randn(n),\n",
    "                  'b':np.random.randn(n),\n",
    "                  'N':np.random.randint(100,1000,size=(n,)),\n",
    "                  'cat': np.random.choice(['type1','type2','type3'], size=n)})\n"
   ]
  },
  {
   "cell_type": "code",
   "execution_count": 8,
   "id": "4c03e248",
   "metadata": {},
   "outputs": [],
   "source": [
    "def myFun(a,b,N,cat):\n",
    "    if cat in ['type1','type2']:\n",
    "        return (a+b)/N\n",
    "    return (a-b)*N"
   ]
  },
  {
   "cell_type": "markdown",
   "id": "179885b6",
   "metadata": {},
   "source": [
    "**First** we use `apply` function to set a reference point"
   ]
  },
  {
   "cell_type": "code",
   "execution_count": 9,
   "id": "82ab2ba8",
   "metadata": {},
   "outputs": [
    {
     "name": "stdout",
     "output_type": "stream",
     "text": [
      "9.6 s ± 71.5 ms per loop (mean ± std. dev. of 7 runs, 1 loop each)\n"
     ]
    }
   ],
   "source": [
    "_ = %timeit df.apply(lambda x: myFun(x['a'], x['b'],x['N'],x['cat']), axis=1)"
   ]
  },
  {
   "cell_type": "markdown",
   "id": "54844e3a",
   "metadata": {},
   "source": [
    "## Write Numba\n",
    "\n",
    "Writing the same function in Numba is straight forward, just add numba dicorator to it and you're all set!\n"
   ]
  },
  {
   "cell_type": "code",
   "execution_count": null,
   "id": "074e67cc",
   "metadata": {},
   "outputs": [],
   "source": []
  },
  {
   "cell_type": "code",
   "execution_count": null,
   "id": "3a818e04",
   "metadata": {},
   "outputs": [],
   "source": []
  }
 ],
 "metadata": {
  "kernelspec": {
   "display_name": "Python 3",
   "language": "python",
   "name": "python3"
  },
  "language_info": {
   "codemirror_mode": {
    "name": "ipython",
    "version": 3
   },
   "file_extension": ".py",
   "mimetype": "text/x-python",
   "name": "python",
   "nbconvert_exporter": "python",
   "pygments_lexer": "ipython3",
   "version": "3.9.6"
  }
 },
 "nbformat": 4,
 "nbformat_minor": 5
}
