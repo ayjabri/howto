{
 "cells": [
  {
   "cell_type": "markdown",
   "id": "87cb18ea",
   "metadata": {},
   "source": [
    "### Victorize your function\n",
    "\n",
    "This can be accomplished by using one of two functions, both of which are from numpy:\n",
    "1. np.where: for single condition applicable to any size array\n",
    "2. np.select: for multiple conditions or if elif elif...else \n"
   ]
  },
  {
   "cell_type": "code",
   "execution_count": 3,
   "id": "b81bbc2f",
   "metadata": {},
   "outputs": [
    {
     "name": "stdout",
     "output_type": "stream",
     "text": [
      "Using matplotlib backend: Qt5Agg\n",
      "Populating the interactive namespace from numpy and matplotlib\n"
     ]
    }
   ],
   "source": [
    "%pylab\n",
    "import pandas as pd"
   ]
  },
  {
   "cell_type": "markdown",
   "id": "c5358f45",
   "metadata": {},
   "source": [
    "#### Generate fake data\n"
   ]
  },
  {
   "cell_type": "code",
   "execution_count": 4,
   "id": "32fd8174",
   "metadata": {},
   "outputs": [],
   "source": [
    "n = 1000_000\n",
    "df = pd.DataFrame({'a':np.random.randn(n),\n",
    "                  'b':np.random.randn(n),\n",
    "                  'N':np.random.randint(100,1000,size=(n,)),\n",
    "                  'cat': np.random.choice(['type1','type2','type3'], size=n)})\n"
   ]
  },
  {
   "cell_type": "code",
   "execution_count": 25,
   "id": "2d5ccb98",
   "metadata": {},
   "outputs": [],
   "source": [
    "def myFun(a,b,N,cat):\n",
    "    if cat in ['type1','type2']:\n",
    "        return (a+b)/N\n",
    "    return (a-b)*N"
   ]
  },
  {
   "cell_type": "markdown",
   "id": "7d1d05b0",
   "metadata": {},
   "source": [
    "**First** we use `apply` function to set a reference point"
   ]
  },
  {
   "cell_type": "code",
   "execution_count": 61,
   "id": "33a17dff",
   "metadata": {},
   "outputs": [
    {
     "name": "stdout",
     "output_type": "stream",
     "text": [
      "9.53 s ± 108 ms per loop (mean ± std. dev. of 7 runs, 1 loop each)\n"
     ]
    }
   ],
   "source": [
    "_ = %timeit df.apply(lambda x: myFun(x['a'], x['b'],x['N'],x['cat']), axis=1)"
   ]
  },
  {
   "cell_type": "code",
   "execution_count": 60,
   "id": "786ce9f8",
   "metadata": {},
   "outputs": [
    {
     "name": "stdout",
     "output_type": "stream",
     "text": [
      "34.7 ms ± 531 µs per loop (mean ± std. dev. of 7 runs, 10 loops each)\n"
     ]
    }
   ],
   "source": [
    "_ = %timeit np.where(df.cat.isin(['type1','type2']), (df.a+df.b)/df.N, (df.a-df.b)*df.N)"
   ]
  },
  {
   "cell_type": "markdown",
   "id": "b6d852b5",
   "metadata": {},
   "source": [
    "Huge improvement in speed!\n",
    "\n",
    "### Compared to Cython:\n",
    "\n",
    "Writing the same function in Cython processes the same data in less than half the time! Something to keep in mind"
   ]
  },
  {
   "cell_type": "code",
   "execution_count": 29,
   "id": "20309247",
   "metadata": {},
   "outputs": [],
   "source": [
    "%load_ext cython"
   ]
  },
  {
   "cell_type": "code",
   "execution_count": 255,
   "id": "ee7a6e90",
   "metadata": {},
   "outputs": [],
   "source": [
    "%%cython\n",
    "cimport cython\n",
    "import numpy as np\n",
    "cimport numpy as np\n",
    "\n",
    "ctypedef np.ndarray array\n",
    "\n",
    "cdef double myfun_cy(double a, double b, int N, str cat):\n",
    "    if cat in ['type1','type2']:\n",
    "        return (a+b)/N\n",
    "    return (a-b)*N\n",
    "\n",
    "@cython.boundscheck(False)\n",
    "@cython.wraparound(False)\n",
    "cpdef array[double] apply_cy(array[double] col_a,\n",
    "                                 array[double] col_b,\n",
    "                                 array[long] col_N,\n",
    "                                 array[str] col_cat):\n",
    "    cdef int i, n = len(col_a)\n",
    "    cdef array[double] z = np.empty(n)\n",
    "    for i in range(n):\n",
    "        z[i] = myfun_cy(col_a[i],col_b[i],col_N[i], col_cat[i])\n",
    "    return z"
   ]
  },
  {
   "cell_type": "code",
   "execution_count": 256,
   "id": "7f26767e",
   "metadata": {},
   "outputs": [
    {
     "name": "stdout",
     "output_type": "stream",
     "text": [
      "13.7 ms ± 218 µs per loop (mean ± std. dev. of 7 runs, 100 loops each)\n"
     ]
    }
   ],
   "source": [
    "_ = %timeit apply_cy(df['a'].values, df['b'].values,df['N'].values,df['cat'].values)"
   ]
  },
  {
   "cell_type": "code",
   "execution_count": null,
   "id": "d88296a2",
   "metadata": {},
   "outputs": [],
   "source": []
  }
 ],
 "metadata": {
  "kernelspec": {
   "display_name": "Python 3",
   "language": "python",
   "name": "python3"
  },
  "language_info": {
   "codemirror_mode": {
    "name": "ipython",
    "version": 3
   },
   "file_extension": ".py",
   "mimetype": "text/x-python",
   "name": "python",
   "nbconvert_exporter": "python",
   "pygments_lexer": "ipython3",
   "version": "3.9.6"
  }
 },
 "nbformat": 4,
 "nbformat_minor": 5
}
