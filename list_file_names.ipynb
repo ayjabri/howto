{
 "cells": [
  {
   "cell_type": "markdown",
   "metadata": {},
   "source": [
    "### Add `.ls()` extension to Path object"
   ]
  },
  {
   "cell_type": "markdown",
   "metadata": {},
   "source": [
    "#### 1. Approach I: add list direcotry as an `.ls()`"
   ]
  },
  {
   "cell_type": "code",
   "execution_count": 21,
   "metadata": {},
   "outputs": [],
   "source": [
    "#Approach I: add ls as list directory \n",
    "from os import listdir\n",
    "from pathlib import Path\n",
    "\n",
    "#define a small function then add it to Path as an attribute\n",
    "def ls(x):\n",
    "    return listdir(x)\n",
    "Path.ls = ls"
   ]
  },
  {
   "cell_type": "code",
   "execution_count": 22,
   "metadata": {},
   "outputs": [
    {
     "data": {
      "text/plain": [
       "['Planet',\n",
       " '.DS_Store',\n",
       " 'Artwork',\n",
       " 'FashionMNIST',\n",
       " 'Untitled.ipynb',\n",
       " 'KMNIST.ipynb',\n",
       " 'MNIST.ipynb',\n",
       " 'QMNIST',\n",
       " 'Resnet',\n",
       " 'Regresssion',\n",
       " 'CIFAR10-FASTAI.ipynb',\n",
       " 'rossman_data_clean.ipynb',\n",
       " 'CIFAR10.ipynb',\n",
       " 'Celeba',\n",
       " 'CIFAR10-Linear.ipynb',\n",
       " 'CIFAR10_fastai.ipynb',\n",
       " '.ipynb_checkpoints',\n",
       " 'How to',\n",
       " 'data',\n",
       " 'runs',\n",
       " 'California']"
      ]
     },
     "execution_count": 22,
     "metadata": {},
     "output_type": "execute_result"
    }
   ],
   "source": [
    "# try it out\n",
    "path = Path('/Users/aymanjabri/notebooks')\n",
    "path.ls()"
   ]
  },
  {
   "cell_type": "markdown",
   "metadata": {},
   "source": [
    "#### 2. Approach II: add `iterdir` as an `.ls()`"
   ]
  },
  {
   "cell_type": "code",
   "execution_count": 16,
   "metadata": {},
   "outputs": [],
   "source": [
    "# from pathlib import Path\n",
    "\n",
    "#Create a small ls function\n",
    "def ls(x):\n",
    "    return list(Path.iterdir(x))\n",
    "Path.ls = ls"
   ]
  },
  {
   "cell_type": "code",
   "execution_count": 20,
   "metadata": {},
   "outputs": [
    {
     "data": {
      "text/plain": [
       "[PosixPath('/Users/aymanjabri/notebooks/Planet'),\n",
       " PosixPath('/Users/aymanjabri/notebooks/.DS_Store'),\n",
       " PosixPath('/Users/aymanjabri/notebooks/Artwork'),\n",
       " PosixPath('/Users/aymanjabri/notebooks/FashionMNIST'),\n",
       " PosixPath('/Users/aymanjabri/notebooks/Untitled.ipynb'),\n",
       " PosixPath('/Users/aymanjabri/notebooks/KMNIST.ipynb'),\n",
       " PosixPath('/Users/aymanjabri/notebooks/MNIST.ipynb'),\n",
       " PosixPath('/Users/aymanjabri/notebooks/QMNIST'),\n",
       " PosixPath('/Users/aymanjabri/notebooks/Resnet'),\n",
       " PosixPath('/Users/aymanjabri/notebooks/Regresssion'),\n",
       " PosixPath('/Users/aymanjabri/notebooks/CIFAR10-FASTAI.ipynb'),\n",
       " PosixPath('/Users/aymanjabri/notebooks/rossman_data_clean.ipynb'),\n",
       " PosixPath('/Users/aymanjabri/notebooks/CIFAR10.ipynb'),\n",
       " PosixPath('/Users/aymanjabri/notebooks/Celeba'),\n",
       " PosixPath('/Users/aymanjabri/notebooks/CIFAR10-Linear.ipynb'),\n",
       " PosixPath('/Users/aymanjabri/notebooks/CIFAR10_fastai.ipynb'),\n",
       " PosixPath('/Users/aymanjabri/notebooks/.ipynb_checkpoints'),\n",
       " PosixPath('/Users/aymanjabri/notebooks/How to'),\n",
       " PosixPath('/Users/aymanjabri/notebooks/data'),\n",
       " PosixPath('/Users/aymanjabri/notebooks/runs'),\n",
       " PosixPath('/Users/aymanjabri/notebooks/California')]"
      ]
     },
     "execution_count": 20,
     "metadata": {},
     "output_type": "execute_result"
    }
   ],
   "source": [
    "folder = Path('/Users/aymanjabri/notebooks/')\n",
    "folder.ls()"
   ]
  },
  {
   "cell_type": "code",
   "execution_count": null,
   "metadata": {},
   "outputs": [],
   "source": [
    "folders = [e for e in os.listdir('..') if os.path.isdir(e)]"
   ]
  },
  {
   "cell_type": "code",
   "execution_count": null,
   "metadata": {},
   "outputs": [],
   "source": [
    "folders"
   ]
  },
  {
   "cell_type": "code",
   "execution_count": null,
   "metadata": {},
   "outputs": [],
   "source": [
    "images = [e for e in path.iterdir() if path.is_dir]"
   ]
  },
  {
   "cell_type": "code",
   "execution_count": null,
   "metadata": {},
   "outputs": [],
   "source": [
    "def filter_files(files, include=[], exclude=[]):\n",
    "    for incl in include:\n",
    "        files = [f for f in files if incl in f.name]\n",
    "    for excl in exclude:\n",
    "        files = [f for f in files if excl not in f.name]\n",
    "    return sorted(files)\n",
    "\n",
    "def ls(x, recursive=False, include=[], exclude=[]):\n",
    "    if not recursive:\n",
    "        out = list(x.iterdir())\n",
    "    else:\n",
    "        out = [o for o in x.glob('**/*')]\n",
    "    out = filter_files(out, include=include, exclude=exclude)\n",
    "    return out\n",
    "Path.ls = ls"
   ]
  },
  {
   "cell_type": "code",
   "execution_count": null,
   "metadata": {},
   "outputs": [],
   "source": [
    "folders = "
   ]
  }
 ],
 "metadata": {
  "kernelspec": {
   "display_name": "Python 3",
   "language": "python",
   "name": "python3"
  },
  "language_info": {
   "codemirror_mode": {
    "name": "ipython",
    "version": 3
   },
   "file_extension": ".py",
   "mimetype": "text/x-python",
   "name": "python",
   "nbconvert_exporter": "python",
   "pygments_lexer": "ipython3",
   "version": "3.7.5"
  }
 },
 "nbformat": 4,
 "nbformat_minor": 4
}
