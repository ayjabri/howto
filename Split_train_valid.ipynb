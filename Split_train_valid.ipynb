{
 "cells": [
  {
   "cell_type": "markdown",
   "metadata": {},
   "source": [
    "# Prepare Data"
   ]
  },
  {
   "cell_type": "code",
   "execution_count": 15,
   "metadata": {},
   "outputs": [],
   "source": [
    "import numpy as np\n",
    "import torch\n",
    "import torchvision as tv\n",
    "from torchvision import datasets,transforms\n",
    "from torch.utils.data import Dataset,random_split\n",
    "from glob import glob\n",
    "import os\n",
    "from sklearn.model_selection import train_test_split"
   ]
  },
  {
   "cell_type": "code",
   "execution_count": 16,
   "metadata": {},
   "outputs": [],
   "source": [
    "path = '/Users/Aymanjabri/notebooks/Artwork/data/images/images'\n",
    "x = glob(path+'/**/*')\n",
    "\n",
    "classes = [os.path.basename(i) for i in glob(path+'/**')]\n",
    "targets = np.arange(0,50)\n",
    "class_to_idx=dict(zip(classes,targets))"
   ]
  },
  {
   "cell_type": "code",
   "execution_count": 17,
   "metadata": {},
   "outputs": [],
   "source": [
    "d = [os.path.basename(os.path.dirname(i)) for i in x]"
   ]
  },
  {
   "cell_type": "code",
   "execution_count": 18,
   "metadata": {},
   "outputs": [],
   "source": [
    "y = [class_to_idx[i] for i in d]"
   ]
  },
  {
   "cell_type": "code",
   "execution_count": 19,
   "metadata": {},
   "outputs": [
    {
     "data": {
      "text/plain": [
       "[(0, 84),\n",
       " (1, 128),\n",
       " (2, 702),\n",
       " (3, 43),\n",
       " (4, 291),\n",
       " (5, 99),\n",
       " (6, 259),\n",
       " (7, 49),\n",
       " (8, 194),\n",
       " (9, 255),\n",
       " (10, 90),\n",
       " (11, 119),\n",
       " (12, 181),\n",
       " (13, 81),\n",
       " (14, 87),\n",
       " (15, 31),\n",
       " (16, 134),\n",
       " (17, 188),\n",
       " (18, 311),\n",
       " (19, 73),\n",
       " (20, 239),\n",
       " (21, 164),\n",
       " (22, 81),\n",
       " (23, 126),\n",
       " (24, 47),\n",
       " (25, 91),\n",
       " (26, 139),\n",
       " (27, 70),\n",
       " (28, 88),\n",
       " (29, 117),\n",
       " (30, 877),\n",
       " (31, 59),\n",
       " (32, 193),\n",
       " (33, 186),\n",
       " (34, 120),\n",
       " (35, 439),\n",
       " (36, 24),\n",
       " (37, 336),\n",
       " (38, 102),\n",
       " (39, 141),\n",
       " (40, 67),\n",
       " (41, 55),\n",
       " (42, 137),\n",
       " (43, 171),\n",
       " (44, 109),\n",
       " (45, 262),\n",
       " (46, 143),\n",
       " (47, 70),\n",
       " (48, 66),\n",
       " (49, 328)]"
      ]
     },
     "execution_count": 19,
     "metadata": {},
     "output_type": "execute_result"
    }
   ],
   "source": [
    "sorted(Counter(y).items())"
   ]
  },
  {
   "cell_type": "markdown",
   "metadata": {},
   "source": [
    "### Split the dataset between training and validation"
   ]
  },
  {
   "cell_type": "markdown",
   "metadata": {},
   "source": [
    "#### 1. Using Sklearn"
   ]
  },
  {
   "cell_type": "code",
   "execution_count": 20,
   "metadata": {},
   "outputs": [],
   "source": [
    "#import `train_test_split` from sklearn\n",
    "\n",
    "X_train,X_test,y_train,y_test = train_test_split(x,y,test_size=0.2)"
   ]
  },
  {
   "cell_type": "code",
   "execution_count": 21,
   "metadata": {},
   "outputs": [
    {
     "data": {
      "text/plain": [
       "(6756, 1690)"
      ]
     },
     "execution_count": 21,
     "metadata": {},
     "output_type": "execute_result"
    }
   ],
   "source": [
    "len(y_train),len(y_test)"
   ]
  },
  {
   "cell_type": "markdown",
   "metadata": {},
   "source": [
    "#### 2. Using Pytorch\n",
    "\n",
    "`from torch.utils.data import random_split`"
   ]
  },
  {
   "cell_type": "markdown",
   "metadata": {},
   "source": [
    "##### Create the Dataset as a subclass of torchvision `Dataset`"
   ]
  },
  {
   "cell_type": "code",
   "execution_count": 22,
   "metadata": {},
   "outputs": [],
   "source": [
    "class ArtworkSet(Dataset):\n",
    "    def __init__(self,x,y,class_to_idx,classes,transform=None):\n",
    "        self.classes = classes\n",
    "        self.class_to_idx = class_to_idx\n",
    "        self.paths = x\n",
    "        self.targets = y\n",
    "        self.transform=transform\n",
    "        \n",
    "    def __len__(self):\n",
    "        return len(self.targets)\n",
    "    \n",
    "    def __getitem__(self,idx):\n",
    "        img,label = Image.open(self.paths[idx][0]),self.targets[idx]\n",
    "        if img.getbands()[0] == 'L':\n",
    "            img = img.convert('RGB')\n",
    "        if self.transform is not None:\n",
    "            img = self.transform(img)\n",
    "        return img,label\n",
    "        "
   ]
  },
  {
   "cell_type": "code",
   "execution_count": 23,
   "metadata": {},
   "outputs": [],
   "source": [
    "tfms = transforms.Compose([transforms.Resize((50,50)),\n",
    "                            transforms.ToTensor(),\n",
    "                            transforms.Normalize((0.5,0.5,0.5),(0.5,0.5,0.5))])\n",
    "\n",
    "ds = ArtworkSet(x,y,class_to_idx=class_to_idx,classes=classes,transform=tfms)"
   ]
  },
  {
   "cell_type": "code",
   "execution_count": 24,
   "metadata": {},
   "outputs": [
    {
     "data": {
      "text/plain": [
       "8446"
      ]
     },
     "execution_count": 24,
     "metadata": {},
     "output_type": "execute_result"
    }
   ],
   "source": [
    "len(ds)"
   ]
  },
  {
   "cell_type": "code",
   "execution_count": 27,
   "metadata": {},
   "outputs": [],
   "source": [
    "trainset,validset = random_split(dataset=ds,lengths=[6757,1689])"
   ]
  },
  {
   "cell_type": "code",
   "execution_count": 28,
   "metadata": {},
   "outputs": [
    {
     "data": {
      "text/plain": [
       "(6757, 1689)"
      ]
     },
     "execution_count": 28,
     "metadata": {},
     "output_type": "execute_result"
    }
   ],
   "source": [
    "len(trainset),len(validset)"
   ]
  },
  {
   "cell_type": "code",
   "execution_count": null,
   "metadata": {},
   "outputs": [],
   "source": []
  }
 ],
 "metadata": {
  "kernelspec": {
   "display_name": "Python 3",
   "language": "python",
   "name": "python3"
  },
  "language_info": {
   "codemirror_mode": {
    "name": "ipython",
    "version": 3
   },
   "file_extension": ".py",
   "mimetype": "text/x-python",
   "name": "python",
   "nbconvert_exporter": "python",
   "pygments_lexer": "ipython3",
   "version": "3.7.5"
  }
 },
 "nbformat": 4,
 "nbformat_minor": 4
}
