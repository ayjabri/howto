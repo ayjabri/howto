{
 "cells": [
  {
   "cell_type": "markdown",
   "metadata": {},
   "source": [
    "### Recursion, the Fibonacci Sequence and Memoization || Python Tutorial || Learn Python Programming\n",
    "\n",
    "https://www.youtube.com/watch?v=Qk0zUZW-U_M"
   ]
  },
  {
   "cell_type": "code",
   "execution_count": 16,
   "metadata": {},
   "outputs": [],
   "source": [
    "from time import process_time"
   ]
  },
  {
   "cell_type": "code",
   "execution_count": 17,
   "metadata": {},
   "outputs": [],
   "source": [
    "# let's first define a regular fibonacci function using recursion\n",
    "def fib(n):\n",
    "    if n<=2: return 1\n",
    "    return fib(n-1) + fib(n-2)"
   ]
  },
  {
   "cell_type": "code",
   "execution_count": 23,
   "metadata": {},
   "outputs": [
    {
     "name": "stdout",
     "output_type": "stream",
     "text": [
      "1 : 1\n",
      "2 : 1\n",
      "3 : 2\n",
      "4 : 3\n",
      "5 : 5\n",
      "6 : 8\n",
      "7 : 13\n",
      "8 : 21\n",
      "9 : 34\n",
      "10 : 55\n",
      "11 : 89\n",
      "12 : 144\n",
      "13 : 233\n",
      "14 : 377\n",
      "15 : 610\n",
      "16 : 987\n",
      "17 : 1597\n",
      "18 : 2584\n",
      "19 : 4181\n",
      "20 : 6765\n",
      "21 : 10946\n",
      "22 : 17711\n",
      "23 : 28657\n",
      "24 : 46368\n",
      "25 : 75025\n",
      "26 : 121393\n",
      "27 : 196418\n",
      "28 : 317811\n",
      "29 : 514229\n",
      "30 : 832040\n",
      "31 : 1346269\n",
      "32 : 2178309\n",
      "33 : 3524578\n",
      "34 : 5702887\n",
      "35 : 9227465\n",
      "36 : 14930352\n",
      "37 : 24157817\n",
      "38 : 39088169\n",
      "39 : 63245986\n",
      "40 : 102334155\n",
      "Time to process 48.494179\n"
     ]
    }
   ],
   "source": [
    "start_time = process_time()\n",
    "for i in range(1,41):\n",
    "    print(i,':',fib(i))\n",
    "print('Time to process',process_time()-start_time)"
   ]
  },
  {
   "cell_type": "markdown",
   "metadata": {},
   "source": [
    "<font color='yellow'>It will take forever if we try to compute the same for 'i' in range(1,100)!</font>"
   ]
  },
  {
   "cell_type": "code",
   "execution_count": 19,
   "metadata": {},
   "outputs": [],
   "source": [
    "fibonacci_cash = {}"
   ]
  },
  {
   "cell_type": "code",
   "execution_count": 20,
   "metadata": {},
   "outputs": [],
   "source": [
    "def fibonacci(n):\n",
    "    if n in fibonacci_cash:\n",
    "        return fibonacci_cash[n]\n",
    "    if n <= 2:\n",
    "        value = 1\n",
    "    else:\n",
    "        value = fibonacci(n-1) + fibonacci(n-2)\n",
    "    fibonacci_cash[n] = value\n",
    "    return value\n",
    "        "
   ]
  },
  {
   "cell_type": "code",
   "execution_count": 24,
   "metadata": {},
   "outputs": [
    {
     "name": "stdout",
     "output_type": "stream",
     "text": [
      "1 : 1\n",
      "2 : 1\n",
      "3 : 2\n",
      "4 : 3\n",
      "5 : 5\n",
      "6 : 8\n",
      "7 : 13\n",
      "8 : 21\n",
      "9 : 34\n",
      "10 : 55\n",
      "11 : 89\n",
      "12 : 144\n",
      "13 : 233\n",
      "14 : 377\n",
      "15 : 610\n",
      "16 : 987\n",
      "17 : 1597\n",
      "18 : 2584\n",
      "19 : 4181\n",
      "20 : 6765\n",
      "21 : 10946\n",
      "22 : 17711\n",
      "23 : 28657\n",
      "24 : 46368\n",
      "25 : 75025\n",
      "26 : 121393\n",
      "27 : 196418\n",
      "28 : 317811\n",
      "29 : 514229\n",
      "30 : 832040\n",
      "31 : 1346269\n",
      "32 : 2178309\n",
      "33 : 3524578\n",
      "34 : 5702887\n",
      "35 : 9227465\n",
      "36 : 14930352\n",
      "37 : 24157817\n",
      "38 : 39088169\n",
      "39 : 63245986\n",
      "40 : 102334155\n",
      "Time to process: 0.005557000000010248\n"
     ]
    }
   ],
   "source": [
    "start_time=time.process_time()\n",
    "for i in range(1,41):\n",
    "    print(i,':',fibonacci(i))\n",
    "print('Time to process:',process_time()-start_time)"
   ]
  },
  {
   "cell_type": "markdown",
   "metadata": {},
   "source": [
    "### As you can see the difference in time to process is HUGE!!\n",
    "\n",
    "* Time to process <font color='yellow'>48.494179<font>\n",
    "* Time to process: <font color='yellow'>0.005557000000010248<font>\n"
   ]
  },
  {
   "cell_type": "code",
   "execution_count": 29,
   "metadata": {},
   "outputs": [],
   "source": [
    "#Let's simplyfy the original code by adding a caching function\n",
    "from functools import lru_cache\n",
    "\n",
    "@lru_cache(maxsize=1000)\n",
    "def fibo(n):\n",
    "    if n<=2: return 1\n",
    "    return fibo(n-1) + fibo(n-2)"
   ]
  },
  {
   "cell_type": "code",
   "execution_count": 30,
   "metadata": {},
   "outputs": [
    {
     "name": "stdout",
     "output_type": "stream",
     "text": [
      "1 : 1\n",
      "2 : 1\n",
      "3 : 2\n",
      "4 : 3\n",
      "5 : 5\n",
      "6 : 8\n",
      "7 : 13\n",
      "8 : 21\n",
      "9 : 34\n",
      "10 : 55\n",
      "11 : 89\n",
      "12 : 144\n",
      "13 : 233\n",
      "14 : 377\n",
      "15 : 610\n",
      "16 : 987\n",
      "17 : 1597\n",
      "18 : 2584\n",
      "19 : 4181\n",
      "20 : 6765\n",
      "21 : 10946\n",
      "22 : 17711\n",
      "23 : 28657\n",
      "24 : 46368\n",
      "25 : 75025\n",
      "26 : 121393\n",
      "27 : 196418\n",
      "28 : 317811\n",
      "29 : 514229\n",
      "30 : 832040\n",
      "31 : 1346269\n",
      "32 : 2178309\n",
      "33 : 3524578\n",
      "34 : 5702887\n",
      "35 : 9227465\n",
      "36 : 14930352\n",
      "37 : 24157817\n",
      "38 : 39088169\n",
      "39 : 63245986\n",
      "40 : 102334155\n",
      "Time to process: 0.0045709999999985484\n"
     ]
    }
   ],
   "source": [
    "start_time=time.process_time()\n",
    "for i in range(1,41):\n",
    "    print(i,':',fibo(i))\n",
    "print('Time to process:',process_time()-start_time)"
   ]
  },
  {
   "cell_type": "markdown",
   "metadata": {},
   "source": [
    "### This is much much better, and easier!"
   ]
  }
 ],
 "metadata": {
  "kernelspec": {
   "display_name": "Python 3",
   "language": "python",
   "name": "python3"
  },
  "language_info": {
   "codemirror_mode": {
    "name": "ipython",
    "version": 3
   },
   "file_extension": ".py",
   "mimetype": "text/x-python",
   "name": "python",
   "nbconvert_exporter": "python",
   "pygments_lexer": "ipython3",
   "version": "3.8.5"
  }
 },
 "nbformat": 4,
 "nbformat_minor": 4
}
